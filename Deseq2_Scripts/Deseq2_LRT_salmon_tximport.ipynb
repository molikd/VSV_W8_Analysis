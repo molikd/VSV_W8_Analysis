{
 "cells": [
  {
   "cell_type": "code",
   "execution_count": 40,
   "id": "49464e65-74f8-4767-b286-72c7bed776e7",
   "metadata": {},
   "outputs": [
    {
     "name": "stdout",
     "output_type": "stream",
     "text": [
      "package 'RColorBrewer' successfully unpacked and MD5 sums checked\n",
      "\n",
      "The downloaded binary packages are in\n",
      "\tC:\\Users\\edwardbird\\AppData\\Local\\Temp\\RtmpeqRMGd\\downloaded_packages\n"
     ]
    }
   ],
   "source": [
    "#install.packages('BiocManager')\n",
    "#install.packages('pheatmap')\n",
    "#install.packages('RColorBrewer')\n",
    "#install.packages('tidyverse')\n",
    "#install.packages(\"devtools\") #Also need to install RTools4.0\n",
    "#install.packages(\"RColorBrewer\")\n",
    "\n",
    "#library(devtools)\n",
    "#install_github(\"cran/lasso2\") #Removed from cran\n",
    "\n",
    "#BiocManager::install(\"tximportData\")\n",
    "#BiocManager::install(\"tximport\")\n",
    "#BiocManager::install(\"DESeq2\")\n",
    "#BiocManager::install(\"DEGreport\")\n",
    "#BiocManager::install(\"clusterProfiler\")"
   ]
  },
  {
   "cell_type": "code",
   "execution_count": 41,
   "id": "ab998d52",
   "metadata": {},
   "outputs": [],
   "source": [
    "library(tximportData)\n",
    "library(tximport)\n",
    "library(DESeq2)\n",
    "library(tidyverse)\n",
    "library(DEGreport)\n",
    "library(pheatmap)\n",
    "library(RColorBrewer)"
   ]
  },
  {
   "cell_type": "code",
   "execution_count": 7,
   "id": "980e8d36",
   "metadata": {},
   "outputs": [
    {
     "data": {
      "text/html": [
       "<table class=\"dataframe\">\n",
       "<caption>A data.frame: 48 × 4</caption>\n",
       "<thead>\n",
       "\t<tr><th scope=col>SampleName</th><th scope=col>Treatment</th><th scope=col>Time</th><th scope=col>Trt_Time</th></tr>\n",
       "\t<tr><th scope=col>&lt;fct&gt;</th><th scope=col>&lt;fct&gt;</th><th scope=col>&lt;fct&gt;</th><th scope=col>&lt;fct&gt;</th></tr>\n",
       "</thead>\n",
       "<tbody>\n",
       "\t<tr><td>C_1_A </td><td>Uninfected</td><td>1 </td><td>Uninfected_1 </td></tr>\n",
       "\t<tr><td>C_1_B </td><td>Uninfected</td><td>1 </td><td>Uninfected_1 </td></tr>\n",
       "\t<tr><td>C_1_C </td><td>Uninfected</td><td>1 </td><td>Uninfected_1 </td></tr>\n",
       "\t<tr><td>C_1_D </td><td>Uninfected</td><td>1 </td><td>Uninfected_1 </td></tr>\n",
       "\t<tr><td>C_1_E </td><td>Uninfected</td><td>1 </td><td>Uninfected_1 </td></tr>\n",
       "\t<tr><td>C_1_F </td><td>Uninfected</td><td>1 </td><td>Uninfected_1 </td></tr>\n",
       "\t<tr><td>C_8_A </td><td>Uninfected</td><td>8 </td><td>Uninfected_8 </td></tr>\n",
       "\t<tr><td>C_8_B </td><td>Uninfected</td><td>8 </td><td>Uninfected_8 </td></tr>\n",
       "\t<tr><td>C_8_C </td><td>Uninfected</td><td>8 </td><td>Uninfected_8 </td></tr>\n",
       "\t<tr><td>C_8_D </td><td>Uninfected</td><td>8 </td><td>Uninfected_8 </td></tr>\n",
       "\t<tr><td>C_8_E </td><td>Uninfected</td><td>8 </td><td>Uninfected_8 </td></tr>\n",
       "\t<tr><td>C_8_F </td><td>Uninfected</td><td>8 </td><td>Uninfected_8 </td></tr>\n",
       "\t<tr><td>C_24_A</td><td>Uninfected</td><td>24</td><td>Uninfected_24</td></tr>\n",
       "\t<tr><td>C_24_B</td><td>Uninfected</td><td>24</td><td>Uninfected_24</td></tr>\n",
       "\t<tr><td>C_24_C</td><td>Uninfected</td><td>24</td><td>Uninfected_24</td></tr>\n",
       "\t<tr><td>C_24_D</td><td>Uninfected</td><td>24</td><td>Uninfected_24</td></tr>\n",
       "\t<tr><td>C_24_E</td><td>Uninfected</td><td>24</td><td>Uninfected_24</td></tr>\n",
       "\t<tr><td>C_24_F</td><td>Uninfected</td><td>24</td><td>Uninfected_24</td></tr>\n",
       "\t<tr><td>C_96_A</td><td>Uninfected</td><td>96</td><td>Uninfected_96</td></tr>\n",
       "\t<tr><td>C_96_B</td><td>Uninfected</td><td>96</td><td>Uninfected_96</td></tr>\n",
       "\t<tr><td>C_96_C</td><td>Uninfected</td><td>96</td><td>Uninfected_96</td></tr>\n",
       "\t<tr><td>C_96_D</td><td>Uninfected</td><td>96</td><td>Uninfected_96</td></tr>\n",
       "\t<tr><td>C_96_E</td><td>Uninfected</td><td>96</td><td>Uninfected_96</td></tr>\n",
       "\t<tr><td>C_96_F</td><td>Uninfected</td><td>96</td><td>Uninfected_96</td></tr>\n",
       "\t<tr><td>V_1_A </td><td>Infected  </td><td>1 </td><td>Infected_1   </td></tr>\n",
       "\t<tr><td>V_1_B </td><td>Infected  </td><td>1 </td><td>Infected_1   </td></tr>\n",
       "\t<tr><td>V_1_C </td><td>Infected  </td><td>1 </td><td>Infected_1   </td></tr>\n",
       "\t<tr><td>V_1_D </td><td>Infected  </td><td>1 </td><td>Infected_1   </td></tr>\n",
       "\t<tr><td>V_1_E </td><td>Infected  </td><td>1 </td><td>Infected_1   </td></tr>\n",
       "\t<tr><td>V_1_F </td><td>Infected  </td><td>1 </td><td>Infected_1   </td></tr>\n",
       "\t<tr><td>V_8_A </td><td>Infected  </td><td>8 </td><td>Infected_8   </td></tr>\n",
       "\t<tr><td>V_8_B </td><td>Infected  </td><td>8 </td><td>Infected_8   </td></tr>\n",
       "\t<tr><td>V_8_C </td><td>Infected  </td><td>8 </td><td>Infected_8   </td></tr>\n",
       "\t<tr><td>V_8_D </td><td>Infected  </td><td>8 </td><td>Infected_8   </td></tr>\n",
       "\t<tr><td>V_8_E </td><td>Infected  </td><td>8 </td><td>Infected_8   </td></tr>\n",
       "\t<tr><td>V_8_F </td><td>Infected  </td><td>8 </td><td>Infected_8   </td></tr>\n",
       "\t<tr><td>V_24_A</td><td>Infected  </td><td>24</td><td>Infected_24  </td></tr>\n",
       "\t<tr><td>V_24_B</td><td>Infected  </td><td>24</td><td>Infected_24  </td></tr>\n",
       "\t<tr><td>V_24_C</td><td>Infected  </td><td>24</td><td>Infected_24  </td></tr>\n",
       "\t<tr><td>V_24_D</td><td>Infected  </td><td>24</td><td>Infected_24  </td></tr>\n",
       "\t<tr><td>V_24_E</td><td>Infected  </td><td>24</td><td>Infected_24  </td></tr>\n",
       "\t<tr><td>V_24_F</td><td>Infected  </td><td>24</td><td>Infected_24  </td></tr>\n",
       "\t<tr><td>V_96_A</td><td>Infected  </td><td>96</td><td>Infected_96  </td></tr>\n",
       "\t<tr><td>V_96_B</td><td>Infected  </td><td>96</td><td>Infected_96  </td></tr>\n",
       "\t<tr><td>V_96_C</td><td>Infected  </td><td>96</td><td>Infected_96  </td></tr>\n",
       "\t<tr><td>V_96_D</td><td>Infected  </td><td>96</td><td>Infected_96  </td></tr>\n",
       "\t<tr><td>V_96_E</td><td>Infected  </td><td>96</td><td>Infected_96  </td></tr>\n",
       "\t<tr><td>V_96_F</td><td>Infected  </td><td>96</td><td>Infected_96  </td></tr>\n",
       "</tbody>\n",
       "</table>\n"
      ],
      "text/latex": [
       "A data.frame: 48 × 4\n",
       "\\begin{tabular}{llll}\n",
       " SampleName & Treatment & Time & Trt\\_Time\\\\\n",
       " <fct> & <fct> & <fct> & <fct>\\\\\n",
       "\\hline\n",
       "\t C\\_1\\_A  & Uninfected & 1  & Uninfected\\_1 \\\\\n",
       "\t C\\_1\\_B  & Uninfected & 1  & Uninfected\\_1 \\\\\n",
       "\t C\\_1\\_C  & Uninfected & 1  & Uninfected\\_1 \\\\\n",
       "\t C\\_1\\_D  & Uninfected & 1  & Uninfected\\_1 \\\\\n",
       "\t C\\_1\\_E  & Uninfected & 1  & Uninfected\\_1 \\\\\n",
       "\t C\\_1\\_F  & Uninfected & 1  & Uninfected\\_1 \\\\\n",
       "\t C\\_8\\_A  & Uninfected & 8  & Uninfected\\_8 \\\\\n",
       "\t C\\_8\\_B  & Uninfected & 8  & Uninfected\\_8 \\\\\n",
       "\t C\\_8\\_C  & Uninfected & 8  & Uninfected\\_8 \\\\\n",
       "\t C\\_8\\_D  & Uninfected & 8  & Uninfected\\_8 \\\\\n",
       "\t C\\_8\\_E  & Uninfected & 8  & Uninfected\\_8 \\\\\n",
       "\t C\\_8\\_F  & Uninfected & 8  & Uninfected\\_8 \\\\\n",
       "\t C\\_24\\_A & Uninfected & 24 & Uninfected\\_24\\\\\n",
       "\t C\\_24\\_B & Uninfected & 24 & Uninfected\\_24\\\\\n",
       "\t C\\_24\\_C & Uninfected & 24 & Uninfected\\_24\\\\\n",
       "\t C\\_24\\_D & Uninfected & 24 & Uninfected\\_24\\\\\n",
       "\t C\\_24\\_E & Uninfected & 24 & Uninfected\\_24\\\\\n",
       "\t C\\_24\\_F & Uninfected & 24 & Uninfected\\_24\\\\\n",
       "\t C\\_96\\_A & Uninfected & 96 & Uninfected\\_96\\\\\n",
       "\t C\\_96\\_B & Uninfected & 96 & Uninfected\\_96\\\\\n",
       "\t C\\_96\\_C & Uninfected & 96 & Uninfected\\_96\\\\\n",
       "\t C\\_96\\_D & Uninfected & 96 & Uninfected\\_96\\\\\n",
       "\t C\\_96\\_E & Uninfected & 96 & Uninfected\\_96\\\\\n",
       "\t C\\_96\\_F & Uninfected & 96 & Uninfected\\_96\\\\\n",
       "\t V\\_1\\_A  & Infected   & 1  & Infected\\_1   \\\\\n",
       "\t V\\_1\\_B  & Infected   & 1  & Infected\\_1   \\\\\n",
       "\t V\\_1\\_C  & Infected   & 1  & Infected\\_1   \\\\\n",
       "\t V\\_1\\_D  & Infected   & 1  & Infected\\_1   \\\\\n",
       "\t V\\_1\\_E  & Infected   & 1  & Infected\\_1   \\\\\n",
       "\t V\\_1\\_F  & Infected   & 1  & Infected\\_1   \\\\\n",
       "\t V\\_8\\_A  & Infected   & 8  & Infected\\_8   \\\\\n",
       "\t V\\_8\\_B  & Infected   & 8  & Infected\\_8   \\\\\n",
       "\t V\\_8\\_C  & Infected   & 8  & Infected\\_8   \\\\\n",
       "\t V\\_8\\_D  & Infected   & 8  & Infected\\_8   \\\\\n",
       "\t V\\_8\\_E  & Infected   & 8  & Infected\\_8   \\\\\n",
       "\t V\\_8\\_F  & Infected   & 8  & Infected\\_8   \\\\\n",
       "\t V\\_24\\_A & Infected   & 24 & Infected\\_24  \\\\\n",
       "\t V\\_24\\_B & Infected   & 24 & Infected\\_24  \\\\\n",
       "\t V\\_24\\_C & Infected   & 24 & Infected\\_24  \\\\\n",
       "\t V\\_24\\_D & Infected   & 24 & Infected\\_24  \\\\\n",
       "\t V\\_24\\_E & Infected   & 24 & Infected\\_24  \\\\\n",
       "\t V\\_24\\_F & Infected   & 24 & Infected\\_24  \\\\\n",
       "\t V\\_96\\_A & Infected   & 96 & Infected\\_96  \\\\\n",
       "\t V\\_96\\_B & Infected   & 96 & Infected\\_96  \\\\\n",
       "\t V\\_96\\_C & Infected   & 96 & Infected\\_96  \\\\\n",
       "\t V\\_96\\_D & Infected   & 96 & Infected\\_96  \\\\\n",
       "\t V\\_96\\_E & Infected   & 96 & Infected\\_96  \\\\\n",
       "\t V\\_96\\_F & Infected   & 96 & Infected\\_96  \\\\\n",
       "\\end{tabular}\n"
      ],
      "text/markdown": [
       "\n",
       "A data.frame: 48 × 4\n",
       "\n",
       "| SampleName &lt;fct&gt; | Treatment &lt;fct&gt; | Time &lt;fct&gt; | Trt_Time &lt;fct&gt; |\n",
       "|---|---|---|---|\n",
       "| C_1_A  | Uninfected | 1  | Uninfected_1  |\n",
       "| C_1_B  | Uninfected | 1  | Uninfected_1  |\n",
       "| C_1_C  | Uninfected | 1  | Uninfected_1  |\n",
       "| C_1_D  | Uninfected | 1  | Uninfected_1  |\n",
       "| C_1_E  | Uninfected | 1  | Uninfected_1  |\n",
       "| C_1_F  | Uninfected | 1  | Uninfected_1  |\n",
       "| C_8_A  | Uninfected | 8  | Uninfected_8  |\n",
       "| C_8_B  | Uninfected | 8  | Uninfected_8  |\n",
       "| C_8_C  | Uninfected | 8  | Uninfected_8  |\n",
       "| C_8_D  | Uninfected | 8  | Uninfected_8  |\n",
       "| C_8_E  | Uninfected | 8  | Uninfected_8  |\n",
       "| C_8_F  | Uninfected | 8  | Uninfected_8  |\n",
       "| C_24_A | Uninfected | 24 | Uninfected_24 |\n",
       "| C_24_B | Uninfected | 24 | Uninfected_24 |\n",
       "| C_24_C | Uninfected | 24 | Uninfected_24 |\n",
       "| C_24_D | Uninfected | 24 | Uninfected_24 |\n",
       "| C_24_E | Uninfected | 24 | Uninfected_24 |\n",
       "| C_24_F | Uninfected | 24 | Uninfected_24 |\n",
       "| C_96_A | Uninfected | 96 | Uninfected_96 |\n",
       "| C_96_B | Uninfected | 96 | Uninfected_96 |\n",
       "| C_96_C | Uninfected | 96 | Uninfected_96 |\n",
       "| C_96_D | Uninfected | 96 | Uninfected_96 |\n",
       "| C_96_E | Uninfected | 96 | Uninfected_96 |\n",
       "| C_96_F | Uninfected | 96 | Uninfected_96 |\n",
       "| V_1_A  | Infected   | 1  | Infected_1    |\n",
       "| V_1_B  | Infected   | 1  | Infected_1    |\n",
       "| V_1_C  | Infected   | 1  | Infected_1    |\n",
       "| V_1_D  | Infected   | 1  | Infected_1    |\n",
       "| V_1_E  | Infected   | 1  | Infected_1    |\n",
       "| V_1_F  | Infected   | 1  | Infected_1    |\n",
       "| V_8_A  | Infected   | 8  | Infected_8    |\n",
       "| V_8_B  | Infected   | 8  | Infected_8    |\n",
       "| V_8_C  | Infected   | 8  | Infected_8    |\n",
       "| V_8_D  | Infected   | 8  | Infected_8    |\n",
       "| V_8_E  | Infected   | 8  | Infected_8    |\n",
       "| V_8_F  | Infected   | 8  | Infected_8    |\n",
       "| V_24_A | Infected   | 24 | Infected_24   |\n",
       "| V_24_B | Infected   | 24 | Infected_24   |\n",
       "| V_24_C | Infected   | 24 | Infected_24   |\n",
       "| V_24_D | Infected   | 24 | Infected_24   |\n",
       "| V_24_E | Infected   | 24 | Infected_24   |\n",
       "| V_24_F | Infected   | 24 | Infected_24   |\n",
       "| V_96_A | Infected   | 96 | Infected_96   |\n",
       "| V_96_B | Infected   | 96 | Infected_96   |\n",
       "| V_96_C | Infected   | 96 | Infected_96   |\n",
       "| V_96_D | Infected   | 96 | Infected_96   |\n",
       "| V_96_E | Infected   | 96 | Infected_96   |\n",
       "| V_96_F | Infected   | 96 | Infected_96   |\n",
       "\n"
      ],
      "text/plain": [
       "   SampleName Treatment  Time Trt_Time     \n",
       "1  C_1_A      Uninfected 1    Uninfected_1 \n",
       "2  C_1_B      Uninfected 1    Uninfected_1 \n",
       "3  C_1_C      Uninfected 1    Uninfected_1 \n",
       "4  C_1_D      Uninfected 1    Uninfected_1 \n",
       "5  C_1_E      Uninfected 1    Uninfected_1 \n",
       "6  C_1_F      Uninfected 1    Uninfected_1 \n",
       "7  C_8_A      Uninfected 8    Uninfected_8 \n",
       "8  C_8_B      Uninfected 8    Uninfected_8 \n",
       "9  C_8_C      Uninfected 8    Uninfected_8 \n",
       "10 C_8_D      Uninfected 8    Uninfected_8 \n",
       "11 C_8_E      Uninfected 8    Uninfected_8 \n",
       "12 C_8_F      Uninfected 8    Uninfected_8 \n",
       "13 C_24_A     Uninfected 24   Uninfected_24\n",
       "14 C_24_B     Uninfected 24   Uninfected_24\n",
       "15 C_24_C     Uninfected 24   Uninfected_24\n",
       "16 C_24_D     Uninfected 24   Uninfected_24\n",
       "17 C_24_E     Uninfected 24   Uninfected_24\n",
       "18 C_24_F     Uninfected 24   Uninfected_24\n",
       "19 C_96_A     Uninfected 96   Uninfected_96\n",
       "20 C_96_B     Uninfected 96   Uninfected_96\n",
       "21 C_96_C     Uninfected 96   Uninfected_96\n",
       "22 C_96_D     Uninfected 96   Uninfected_96\n",
       "23 C_96_E     Uninfected 96   Uninfected_96\n",
       "24 C_96_F     Uninfected 96   Uninfected_96\n",
       "25 V_1_A      Infected   1    Infected_1   \n",
       "26 V_1_B      Infected   1    Infected_1   \n",
       "27 V_1_C      Infected   1    Infected_1   \n",
       "28 V_1_D      Infected   1    Infected_1   \n",
       "29 V_1_E      Infected   1    Infected_1   \n",
       "30 V_1_F      Infected   1    Infected_1   \n",
       "31 V_8_A      Infected   8    Infected_8   \n",
       "32 V_8_B      Infected   8    Infected_8   \n",
       "33 V_8_C      Infected   8    Infected_8   \n",
       "34 V_8_D      Infected   8    Infected_8   \n",
       "35 V_8_E      Infected   8    Infected_8   \n",
       "36 V_8_F      Infected   8    Infected_8   \n",
       "37 V_24_A     Infected   24   Infected_24  \n",
       "38 V_24_B     Infected   24   Infected_24  \n",
       "39 V_24_C     Infected   24   Infected_24  \n",
       "40 V_24_D     Infected   24   Infected_24  \n",
       "41 V_24_E     Infected   24   Infected_24  \n",
       "42 V_24_F     Infected   24   Infected_24  \n",
       "43 V_96_A     Infected   96   Infected_96  \n",
       "44 V_96_B     Infected   96   Infected_96  \n",
       "45 V_96_C     Infected   96   Infected_96  \n",
       "46 V_96_D     Infected   96   Infected_96  \n",
       "47 V_96_E     Infected   96   Infected_96  \n",
       "48 V_96_F     Infected   96   Infected_96  "
      ]
     },
     "metadata": {},
     "output_type": "display_data"
    }
   ],
   "source": [
    "samples <- read.table(file = \"metadata_numerictime.tsv.txt\", header = TRUE)\n",
    "samples <- as.data.frame(unclass(samples),stringsAsFactors=TRUE)\n",
    "samples$Time <- as.factor(samples$Time)\n",
    "samples$Trt_Time <- paste(samples$Treatment, samples$Time, sep=\"_\")\n",
    "samples$Trt_Time <- as.factor(samples$Trt_Time)\n",
    "samples"
   ]
  },
  {
   "cell_type": "code",
   "execution_count": 24,
   "id": "e3944b83-1a6d-481d-af2f-d601c9bb0ab0",
   "metadata": {},
   "outputs": [
    {
     "data": {
      "text/html": [
       "<table class=\"dataframe\">\n",
       "<caption>A data.frame: 48 × 4</caption>\n",
       "<thead>\n",
       "\t<tr><th></th><th scope=col>SampleName</th><th scope=col>Treatment</th><th scope=col>Time</th><th scope=col>Trt_Time</th></tr>\n",
       "\t<tr><th></th><th scope=col>&lt;chr&gt;</th><th scope=col>&lt;chr&gt;</th><th scope=col>&lt;chr&gt;</th><th scope=col>&lt;chr&gt;</th></tr>\n",
       "</thead>\n",
       "<tbody>\n",
       "\t<tr><th scope=row>1</th><td>C_1_A </td><td>Uninfected</td><td>1 </td><td>Uninfected_1 </td></tr>\n",
       "\t<tr><th scope=row>2</th><td>C_1_B </td><td>Uninfected</td><td>1 </td><td>Uninfected_1 </td></tr>\n",
       "\t<tr><th scope=row>3</th><td>C_1_C </td><td>Uninfected</td><td>1 </td><td>Uninfected_1 </td></tr>\n",
       "\t<tr><th scope=row>4</th><td>C_1_D </td><td>Uninfected</td><td>1 </td><td>Uninfected_1 </td></tr>\n",
       "\t<tr><th scope=row>5</th><td>C_1_E </td><td>Uninfected</td><td>1 </td><td>Uninfected_1 </td></tr>\n",
       "\t<tr><th scope=row>6</th><td>C_1_F </td><td>Uninfected</td><td>1 </td><td>Uninfected_1 </td></tr>\n",
       "\t<tr><th scope=row>7</th><td>C_8_A </td><td>Uninfected</td><td>8 </td><td>Uninfected_8 </td></tr>\n",
       "\t<tr><th scope=row>8</th><td>C_8_B </td><td>Uninfected</td><td>8 </td><td>Uninfected_8 </td></tr>\n",
       "\t<tr><th scope=row>9</th><td>C_8_C </td><td>Uninfected</td><td>8 </td><td>Uninfected_8 </td></tr>\n",
       "\t<tr><th scope=row>10</th><td>C_8_D </td><td>Uninfected</td><td>8 </td><td>Uninfected_8 </td></tr>\n",
       "\t<tr><th scope=row>11</th><td>C_8_E </td><td>Uninfected</td><td>8 </td><td>Uninfected_8 </td></tr>\n",
       "\t<tr><th scope=row>12</th><td>C_8_F </td><td>Uninfected</td><td>8 </td><td>Uninfected_8 </td></tr>\n",
       "\t<tr><th scope=row>13</th><td>C_24_A</td><td>Uninfected</td><td>24</td><td>Uninfected_24</td></tr>\n",
       "\t<tr><th scope=row>14</th><td>C_24_B</td><td>Uninfected</td><td>24</td><td>Uninfected_24</td></tr>\n",
       "\t<tr><th scope=row>15</th><td>C_24_C</td><td>Uninfected</td><td>24</td><td>Uninfected_24</td></tr>\n",
       "\t<tr><th scope=row>16</th><td>C_24_D</td><td>Uninfected</td><td>24</td><td>Uninfected_24</td></tr>\n",
       "\t<tr><th scope=row>17</th><td>C_24_E</td><td>Uninfected</td><td>24</td><td>Uninfected_24</td></tr>\n",
       "\t<tr><th scope=row>18</th><td>C_24_F</td><td>Uninfected</td><td>24</td><td>Uninfected_24</td></tr>\n",
       "\t<tr><th scope=row>19</th><td>C_96_A</td><td>Uninfected</td><td>96</td><td>Uninfected_96</td></tr>\n",
       "\t<tr><th scope=row>20</th><td>C_96_B</td><td>Uninfected</td><td>96</td><td>Uninfected_96</td></tr>\n",
       "\t<tr><th scope=row>21</th><td>C_96_C</td><td>Uninfected</td><td>96</td><td>Uninfected_96</td></tr>\n",
       "\t<tr><th scope=row>22</th><td>C_96_D</td><td>Uninfected</td><td>96</td><td>Uninfected_96</td></tr>\n",
       "\t<tr><th scope=row>23</th><td>C_96_E</td><td>Uninfected</td><td>96</td><td>Uninfected_96</td></tr>\n",
       "\t<tr><th scope=row>24</th><td>C_96_F</td><td>Uninfected</td><td>96</td><td>Uninfected_96</td></tr>\n",
       "\t<tr><th scope=row>25</th><td>V_1_A </td><td>Infected  </td><td>1 </td><td>Infected_1   </td></tr>\n",
       "\t<tr><th scope=row>26</th><td>V_1_B </td><td>Infected  </td><td>1 </td><td>Infected_1   </td></tr>\n",
       "\t<tr><th scope=row>27</th><td>V_1_C </td><td>Infected  </td><td>1 </td><td>Infected_1   </td></tr>\n",
       "\t<tr><th scope=row>28</th><td>V_1_D </td><td>Infected  </td><td>1 </td><td>Infected_1   </td></tr>\n",
       "\t<tr><th scope=row>29</th><td>V_1_E </td><td>Infected  </td><td>1 </td><td>Infected_1   </td></tr>\n",
       "\t<tr><th scope=row>30</th><td>V_1_F </td><td>Infected  </td><td>1 </td><td>Infected_1   </td></tr>\n",
       "\t<tr><th scope=row>31</th><td>V_8_A </td><td>Infected  </td><td>8 </td><td>Infected_8   </td></tr>\n",
       "\t<tr><th scope=row>32</th><td>V_8_B </td><td>Infected  </td><td>8 </td><td>Infected_8   </td></tr>\n",
       "\t<tr><th scope=row>33</th><td>V_8_C </td><td>Infected  </td><td>8 </td><td>Infected_8   </td></tr>\n",
       "\t<tr><th scope=row>34</th><td>V_8_D </td><td>Infected  </td><td>8 </td><td>Infected_8   </td></tr>\n",
       "\t<tr><th scope=row>35</th><td>V_8_E </td><td>Infected  </td><td>8 </td><td>Infected_8   </td></tr>\n",
       "\t<tr><th scope=row>36</th><td>V_8_F </td><td>Infected  </td><td>8 </td><td>Infected_8   </td></tr>\n",
       "\t<tr><th scope=row>37</th><td>V_24_A</td><td>Infected  </td><td>24</td><td>Infected_24  </td></tr>\n",
       "\t<tr><th scope=row>38</th><td>V_24_B</td><td>Infected  </td><td>24</td><td>Infected_24  </td></tr>\n",
       "\t<tr><th scope=row>39</th><td>V_24_C</td><td>Infected  </td><td>24</td><td>Infected_24  </td></tr>\n",
       "\t<tr><th scope=row>40</th><td>V_24_D</td><td>Infected  </td><td>24</td><td>Infected_24  </td></tr>\n",
       "\t<tr><th scope=row>41</th><td>V_24_E</td><td>Infected  </td><td>24</td><td>Infected_24  </td></tr>\n",
       "\t<tr><th scope=row>42</th><td>V_24_F</td><td>Infected  </td><td>24</td><td>Infected_24  </td></tr>\n",
       "\t<tr><th scope=row>43</th><td>V_96_A</td><td>Infected  </td><td>96</td><td>Infected_96  </td></tr>\n",
       "\t<tr><th scope=row>44</th><td>V_96_B</td><td>Infected  </td><td>96</td><td>Infected_96  </td></tr>\n",
       "\t<tr><th scope=row>45</th><td>V_96_C</td><td>Infected  </td><td>96</td><td>Infected_96  </td></tr>\n",
       "\t<tr><th scope=row>46</th><td>V_96_D</td><td>Infected  </td><td>96</td><td>Infected_96  </td></tr>\n",
       "\t<tr><th scope=row>47</th><td>V_96_E</td><td>Infected  </td><td>96</td><td>Infected_96  </td></tr>\n",
       "\t<tr><th scope=row>48</th><td>V_96_F</td><td>Infected  </td><td>96</td><td>Infected_96  </td></tr>\n",
       "</tbody>\n",
       "</table>\n"
      ],
      "text/latex": [
       "A data.frame: 48 × 4\n",
       "\\begin{tabular}{r|llll}\n",
       "  & SampleName & Treatment & Time & Trt\\_Time\\\\\n",
       "  & <chr> & <chr> & <chr> & <chr>\\\\\n",
       "\\hline\n",
       "\t1 & C\\_1\\_A  & Uninfected & 1  & Uninfected\\_1 \\\\\n",
       "\t2 & C\\_1\\_B  & Uninfected & 1  & Uninfected\\_1 \\\\\n",
       "\t3 & C\\_1\\_C  & Uninfected & 1  & Uninfected\\_1 \\\\\n",
       "\t4 & C\\_1\\_D  & Uninfected & 1  & Uninfected\\_1 \\\\\n",
       "\t5 & C\\_1\\_E  & Uninfected & 1  & Uninfected\\_1 \\\\\n",
       "\t6 & C\\_1\\_F  & Uninfected & 1  & Uninfected\\_1 \\\\\n",
       "\t7 & C\\_8\\_A  & Uninfected & 8  & Uninfected\\_8 \\\\\n",
       "\t8 & C\\_8\\_B  & Uninfected & 8  & Uninfected\\_8 \\\\\n",
       "\t9 & C\\_8\\_C  & Uninfected & 8  & Uninfected\\_8 \\\\\n",
       "\t10 & C\\_8\\_D  & Uninfected & 8  & Uninfected\\_8 \\\\\n",
       "\t11 & C\\_8\\_E  & Uninfected & 8  & Uninfected\\_8 \\\\\n",
       "\t12 & C\\_8\\_F  & Uninfected & 8  & Uninfected\\_8 \\\\\n",
       "\t13 & C\\_24\\_A & Uninfected & 24 & Uninfected\\_24\\\\\n",
       "\t14 & C\\_24\\_B & Uninfected & 24 & Uninfected\\_24\\\\\n",
       "\t15 & C\\_24\\_C & Uninfected & 24 & Uninfected\\_24\\\\\n",
       "\t16 & C\\_24\\_D & Uninfected & 24 & Uninfected\\_24\\\\\n",
       "\t17 & C\\_24\\_E & Uninfected & 24 & Uninfected\\_24\\\\\n",
       "\t18 & C\\_24\\_F & Uninfected & 24 & Uninfected\\_24\\\\\n",
       "\t19 & C\\_96\\_A & Uninfected & 96 & Uninfected\\_96\\\\\n",
       "\t20 & C\\_96\\_B & Uninfected & 96 & Uninfected\\_96\\\\\n",
       "\t21 & C\\_96\\_C & Uninfected & 96 & Uninfected\\_96\\\\\n",
       "\t22 & C\\_96\\_D & Uninfected & 96 & Uninfected\\_96\\\\\n",
       "\t23 & C\\_96\\_E & Uninfected & 96 & Uninfected\\_96\\\\\n",
       "\t24 & C\\_96\\_F & Uninfected & 96 & Uninfected\\_96\\\\\n",
       "\t25 & V\\_1\\_A  & Infected   & 1  & Infected\\_1   \\\\\n",
       "\t26 & V\\_1\\_B  & Infected   & 1  & Infected\\_1   \\\\\n",
       "\t27 & V\\_1\\_C  & Infected   & 1  & Infected\\_1   \\\\\n",
       "\t28 & V\\_1\\_D  & Infected   & 1  & Infected\\_1   \\\\\n",
       "\t29 & V\\_1\\_E  & Infected   & 1  & Infected\\_1   \\\\\n",
       "\t30 & V\\_1\\_F  & Infected   & 1  & Infected\\_1   \\\\\n",
       "\t31 & V\\_8\\_A  & Infected   & 8  & Infected\\_8   \\\\\n",
       "\t32 & V\\_8\\_B  & Infected   & 8  & Infected\\_8   \\\\\n",
       "\t33 & V\\_8\\_C  & Infected   & 8  & Infected\\_8   \\\\\n",
       "\t34 & V\\_8\\_D  & Infected   & 8  & Infected\\_8   \\\\\n",
       "\t35 & V\\_8\\_E  & Infected   & 8  & Infected\\_8   \\\\\n",
       "\t36 & V\\_8\\_F  & Infected   & 8  & Infected\\_8   \\\\\n",
       "\t37 & V\\_24\\_A & Infected   & 24 & Infected\\_24  \\\\\n",
       "\t38 & V\\_24\\_B & Infected   & 24 & Infected\\_24  \\\\\n",
       "\t39 & V\\_24\\_C & Infected   & 24 & Infected\\_24  \\\\\n",
       "\t40 & V\\_24\\_D & Infected   & 24 & Infected\\_24  \\\\\n",
       "\t41 & V\\_24\\_E & Infected   & 24 & Infected\\_24  \\\\\n",
       "\t42 & V\\_24\\_F & Infected   & 24 & Infected\\_24  \\\\\n",
       "\t43 & V\\_96\\_A & Infected   & 96 & Infected\\_96  \\\\\n",
       "\t44 & V\\_96\\_B & Infected   & 96 & Infected\\_96  \\\\\n",
       "\t45 & V\\_96\\_C & Infected   & 96 & Infected\\_96  \\\\\n",
       "\t46 & V\\_96\\_D & Infected   & 96 & Infected\\_96  \\\\\n",
       "\t47 & V\\_96\\_E & Infected   & 96 & Infected\\_96  \\\\\n",
       "\t48 & V\\_96\\_F & Infected   & 96 & Infected\\_96  \\\\\n",
       "\\end{tabular}\n"
      ],
      "text/markdown": [
       "\n",
       "A data.frame: 48 × 4\n",
       "\n",
       "| <!--/--> | SampleName &lt;chr&gt; | Treatment &lt;chr&gt; | Time &lt;chr&gt; | Trt_Time &lt;chr&gt; |\n",
       "|---|---|---|---|---|\n",
       "| 1 | C_1_A  | Uninfected | 1  | Uninfected_1  |\n",
       "| 2 | C_1_B  | Uninfected | 1  | Uninfected_1  |\n",
       "| 3 | C_1_C  | Uninfected | 1  | Uninfected_1  |\n",
       "| 4 | C_1_D  | Uninfected | 1  | Uninfected_1  |\n",
       "| 5 | C_1_E  | Uninfected | 1  | Uninfected_1  |\n",
       "| 6 | C_1_F  | Uninfected | 1  | Uninfected_1  |\n",
       "| 7 | C_8_A  | Uninfected | 8  | Uninfected_8  |\n",
       "| 8 | C_8_B  | Uninfected | 8  | Uninfected_8  |\n",
       "| 9 | C_8_C  | Uninfected | 8  | Uninfected_8  |\n",
       "| 10 | C_8_D  | Uninfected | 8  | Uninfected_8  |\n",
       "| 11 | C_8_E  | Uninfected | 8  | Uninfected_8  |\n",
       "| 12 | C_8_F  | Uninfected | 8  | Uninfected_8  |\n",
       "| 13 | C_24_A | Uninfected | 24 | Uninfected_24 |\n",
       "| 14 | C_24_B | Uninfected | 24 | Uninfected_24 |\n",
       "| 15 | C_24_C | Uninfected | 24 | Uninfected_24 |\n",
       "| 16 | C_24_D | Uninfected | 24 | Uninfected_24 |\n",
       "| 17 | C_24_E | Uninfected | 24 | Uninfected_24 |\n",
       "| 18 | C_24_F | Uninfected | 24 | Uninfected_24 |\n",
       "| 19 | C_96_A | Uninfected | 96 | Uninfected_96 |\n",
       "| 20 | C_96_B | Uninfected | 96 | Uninfected_96 |\n",
       "| 21 | C_96_C | Uninfected | 96 | Uninfected_96 |\n",
       "| 22 | C_96_D | Uninfected | 96 | Uninfected_96 |\n",
       "| 23 | C_96_E | Uninfected | 96 | Uninfected_96 |\n",
       "| 24 | C_96_F | Uninfected | 96 | Uninfected_96 |\n",
       "| 25 | V_1_A  | Infected   | 1  | Infected_1    |\n",
       "| 26 | V_1_B  | Infected   | 1  | Infected_1    |\n",
       "| 27 | V_1_C  | Infected   | 1  | Infected_1    |\n",
       "| 28 | V_1_D  | Infected   | 1  | Infected_1    |\n",
       "| 29 | V_1_E  | Infected   | 1  | Infected_1    |\n",
       "| 30 | V_1_F  | Infected   | 1  | Infected_1    |\n",
       "| 31 | V_8_A  | Infected   | 8  | Infected_8    |\n",
       "| 32 | V_8_B  | Infected   | 8  | Infected_8    |\n",
       "| 33 | V_8_C  | Infected   | 8  | Infected_8    |\n",
       "| 34 | V_8_D  | Infected   | 8  | Infected_8    |\n",
       "| 35 | V_8_E  | Infected   | 8  | Infected_8    |\n",
       "| 36 | V_8_F  | Infected   | 8  | Infected_8    |\n",
       "| 37 | V_24_A | Infected   | 24 | Infected_24   |\n",
       "| 38 | V_24_B | Infected   | 24 | Infected_24   |\n",
       "| 39 | V_24_C | Infected   | 24 | Infected_24   |\n",
       "| 40 | V_24_D | Infected   | 24 | Infected_24   |\n",
       "| 41 | V_24_E | Infected   | 24 | Infected_24   |\n",
       "| 42 | V_24_F | Infected   | 24 | Infected_24   |\n",
       "| 43 | V_96_A | Infected   | 96 | Infected_96   |\n",
       "| 44 | V_96_B | Infected   | 96 | Infected_96   |\n",
       "| 45 | V_96_C | Infected   | 96 | Infected_96   |\n",
       "| 46 | V_96_D | Infected   | 96 | Infected_96   |\n",
       "| 47 | V_96_E | Infected   | 96 | Infected_96   |\n",
       "| 48 | V_96_F | Infected   | 96 | Infected_96   |\n",
       "\n"
      ],
      "text/plain": [
       "   SampleName Treatment  Time Trt_Time     \n",
       "1  C_1_A      Uninfected 1    Uninfected_1 \n",
       "2  C_1_B      Uninfected 1    Uninfected_1 \n",
       "3  C_1_C      Uninfected 1    Uninfected_1 \n",
       "4  C_1_D      Uninfected 1    Uninfected_1 \n",
       "5  C_1_E      Uninfected 1    Uninfected_1 \n",
       "6  C_1_F      Uninfected 1    Uninfected_1 \n",
       "7  C_8_A      Uninfected 8    Uninfected_8 \n",
       "8  C_8_B      Uninfected 8    Uninfected_8 \n",
       "9  C_8_C      Uninfected 8    Uninfected_8 \n",
       "10 C_8_D      Uninfected 8    Uninfected_8 \n",
       "11 C_8_E      Uninfected 8    Uninfected_8 \n",
       "12 C_8_F      Uninfected 8    Uninfected_8 \n",
       "13 C_24_A     Uninfected 24   Uninfected_24\n",
       "14 C_24_B     Uninfected 24   Uninfected_24\n",
       "15 C_24_C     Uninfected 24   Uninfected_24\n",
       "16 C_24_D     Uninfected 24   Uninfected_24\n",
       "17 C_24_E     Uninfected 24   Uninfected_24\n",
       "18 C_24_F     Uninfected 24   Uninfected_24\n",
       "19 C_96_A     Uninfected 96   Uninfected_96\n",
       "20 C_96_B     Uninfected 96   Uninfected_96\n",
       "21 C_96_C     Uninfected 96   Uninfected_96\n",
       "22 C_96_D     Uninfected 96   Uninfected_96\n",
       "23 C_96_E     Uninfected 96   Uninfected_96\n",
       "24 C_96_F     Uninfected 96   Uninfected_96\n",
       "25 V_1_A      Infected   1    Infected_1   \n",
       "26 V_1_B      Infected   1    Infected_1   \n",
       "27 V_1_C      Infected   1    Infected_1   \n",
       "28 V_1_D      Infected   1    Infected_1   \n",
       "29 V_1_E      Infected   1    Infected_1   \n",
       "30 V_1_F      Infected   1    Infected_1   \n",
       "31 V_8_A      Infected   8    Infected_8   \n",
       "32 V_8_B      Infected   8    Infected_8   \n",
       "33 V_8_C      Infected   8    Infected_8   \n",
       "34 V_8_D      Infected   8    Infected_8   \n",
       "35 V_8_E      Infected   8    Infected_8   \n",
       "36 V_8_F      Infected   8    Infected_8   \n",
       "37 V_24_A     Infected   24   Infected_24  \n",
       "38 V_24_B     Infected   24   Infected_24  \n",
       "39 V_24_C     Infected   24   Infected_24  \n",
       "40 V_24_D     Infected   24   Infected_24  \n",
       "41 V_24_E     Infected   24   Infected_24  \n",
       "42 V_24_F     Infected   24   Infected_24  \n",
       "43 V_96_A     Infected   96   Infected_96  \n",
       "44 V_96_B     Infected   96   Infected_96  \n",
       "45 V_96_C     Infected   96   Infected_96  \n",
       "46 V_96_D     Infected   96   Infected_96  \n",
       "47 V_96_E     Infected   96   Infected_96  \n",
       "48 V_96_F     Infected   96   Infected_96  "
      ]
     },
     "metadata": {},
     "output_type": "display_data"
    }
   ],
   "source": [
    "meta = as.data.frame.matrix(samples)\n",
    "meta"
   ]
  },
  {
   "cell_type": "code",
   "execution_count": 8,
   "id": "502f06f1",
   "metadata": {},
   "outputs": [],
   "source": [
    "txdb <- read.table(file = \"gene_2_tx.tsv\", header = TRUE)\n",
    "tx2gene <- txdb"
   ]
  },
  {
   "cell_type": "code",
   "execution_count": 9,
   "id": "58233dd7",
   "metadata": {},
   "outputs": [
    {
     "name": "stderr",
     "output_type": "stream",
     "text": [
      "reading in files with read_tsv\n",
      "\n",
      "1 \n",
      "2 \n",
      "3 \n",
      "4 \n",
      "5 \n",
      "6 \n",
      "7 \n",
      "8 \n",
      "9 \n",
      "10 \n",
      "11 \n",
      "12 \n",
      "13 \n",
      "14 \n",
      "15 \n",
      "16 \n",
      "17 \n",
      "18 \n",
      "19 \n",
      "20 \n",
      "21 \n",
      "22 \n",
      "23 \n",
      "24 \n",
      "25 \n",
      "26 \n",
      "27 \n",
      "28 \n",
      "29 \n",
      "30 \n",
      "31 \n",
      "32 \n",
      "33 \n",
      "34 \n",
      "35 \n",
      "36 \n",
      "37 \n",
      "38 \n",
      "39 \n",
      "40 \n",
      "41 \n",
      "42 \n",
      "43 \n",
      "44 \n",
      "45 \n",
      "46 \n",
      "47 \n",
      "48 \n",
      "\n",
      "\n",
      "summarizing abundance\n",
      "\n",
      "summarizing counts\n",
      "\n",
      "summarizing length\n",
      "\n"
     ]
    },
    {
     "data": {
      "text/html": [
       "<table class=\"dataframe\">\n",
       "<caption>A matrix: 6 × 48 of type dbl</caption>\n",
       "<thead>\n",
       "\t<tr><th></th><th scope=col>C_1_A</th><th scope=col>C_1_B</th><th scope=col>C_1_C</th><th scope=col>C_1_D</th><th scope=col>C_1_E</th><th scope=col>C_1_F</th><th scope=col>C_8_A</th><th scope=col>C_8_B</th><th scope=col>C_8_C</th><th scope=col>C_8_D</th><th scope=col>...</th><th scope=col>V_24_C</th><th scope=col>V_24_D</th><th scope=col>V_24_E</th><th scope=col>V_24_F</th><th scope=col>V_96_A</th><th scope=col>V_96_B</th><th scope=col>V_96_C</th><th scope=col>V_96_D</th><th scope=col>V_96_E</th><th scope=col>V_96_F</th></tr>\n",
       "</thead>\n",
       "<tbody>\n",
       "\t<tr><th scope=row>TRINITY_DN0_c0_g1</th><td>4490.708</td><td>3898.111</td><td>6816.250</td><td>5244.265</td><td>5658.865</td><td>4545.606</td><td>5102.081</td><td>5131.738</td><td>5683.426</td><td>5264.201</td><td>...</td><td>6451.364</td><td>5375.294</td><td>6658.806</td><td>5705.084</td><td>3785.423</td><td>3262.685</td><td>3030.182</td><td>3394.920</td><td>3033.362</td><td>2928.931</td></tr>\n",
       "\t<tr><th scope=row>TRINITY_DN0_c0_g2</th><td>   4.000</td><td>   6.000</td><td>  17.000</td><td>   8.000</td><td>  10.000</td><td>   6.000</td><td>   8.000</td><td>  22.000</td><td>  12.000</td><td>  11.000</td><td>...</td><td>   6.000</td><td>  11.000</td><td>  12.000</td><td>   6.000</td><td>   3.000</td><td>   6.000</td><td>   3.000</td><td>   4.000</td><td>   8.000</td><td>   4.000</td></tr>\n",
       "\t<tr><th scope=row>TRINITY_DN0_c0_g3</th><td>   0.000</td><td>   0.000</td><td>   0.000</td><td>   1.000</td><td>   0.000</td><td>   0.000</td><td>   1.000</td><td>   1.000</td><td>   0.000</td><td>   1.000</td><td>...</td><td>   0.000</td><td>   0.000</td><td>   1.000</td><td>   0.000</td><td>   0.000</td><td>   0.000</td><td>   0.000</td><td>   1.000</td><td>   2.000</td><td>   0.000</td></tr>\n",
       "\t<tr><th scope=row>TRINITY_DN0_c1_g1</th><td>  73.250</td><td>  64.943</td><td> 152.050</td><td> 124.758</td><td> 127.939</td><td>  93.405</td><td> 453.622</td><td> 373.047</td><td> 509.331</td><td> 431.117</td><td>...</td><td> 219.163</td><td> 183.695</td><td> 250.006</td><td> 195.472</td><td> 394.395</td><td> 306.893</td><td> 265.258</td><td> 344.766</td><td> 249.255</td><td> 263.474</td></tr>\n",
       "\t<tr><th scope=row>TRINITY_DN0_c10_g1</th><td>1388.850</td><td>1023.287</td><td>1871.033</td><td>1460.069</td><td>1574.582</td><td>1358.728</td><td>1479.769</td><td>1413.415</td><td>1599.582</td><td>1450.988</td><td>...</td><td>1699.625</td><td>1406.224</td><td>1852.171</td><td>1526.316</td><td>1613.952</td><td>1437.908</td><td>1305.970</td><td>1533.899</td><td>1257.485</td><td>1239.962</td></tr>\n",
       "\t<tr><th scope=row>TRINITY_DN0_c11_g1</th><td>   5.311</td><td>   4.000</td><td>   5.000</td><td>   2.000</td><td>   5.000</td><td>   6.000</td><td>   6.000</td><td>   6.000</td><td>   8.170</td><td>  11.000</td><td>...</td><td>   9.000</td><td>   4.000</td><td>   9.000</td><td>   4.002</td><td>   7.000</td><td>   3.000</td><td>   4.098</td><td>   4.000</td><td>   5.000</td><td>   6.000</td></tr>\n",
       "</tbody>\n",
       "</table>\n"
      ],
      "text/latex": [
       "A matrix: 6 × 48 of type dbl\n",
       "\\begin{tabular}{r|lllllllllllllllllllll}\n",
       "  & C\\_1\\_A & C\\_1\\_B & C\\_1\\_C & C\\_1\\_D & C\\_1\\_E & C\\_1\\_F & C\\_8\\_A & C\\_8\\_B & C\\_8\\_C & C\\_8\\_D & ... & V\\_24\\_C & V\\_24\\_D & V\\_24\\_E & V\\_24\\_F & V\\_96\\_A & V\\_96\\_B & V\\_96\\_C & V\\_96\\_D & V\\_96\\_E & V\\_96\\_F\\\\\n",
       "\\hline\n",
       "\tTRINITY\\_DN0\\_c0\\_g1 & 4490.708 & 3898.111 & 6816.250 & 5244.265 & 5658.865 & 4545.606 & 5102.081 & 5131.738 & 5683.426 & 5264.201 & ... & 6451.364 & 5375.294 & 6658.806 & 5705.084 & 3785.423 & 3262.685 & 3030.182 & 3394.920 & 3033.362 & 2928.931\\\\\n",
       "\tTRINITY\\_DN0\\_c0\\_g2 &    4.000 &    6.000 &   17.000 &    8.000 &   10.000 &    6.000 &    8.000 &   22.000 &   12.000 &   11.000 & ... &    6.000 &   11.000 &   12.000 &    6.000 &    3.000 &    6.000 &    3.000 &    4.000 &    8.000 &    4.000\\\\\n",
       "\tTRINITY\\_DN0\\_c0\\_g3 &    0.000 &    0.000 &    0.000 &    1.000 &    0.000 &    0.000 &    1.000 &    1.000 &    0.000 &    1.000 & ... &    0.000 &    0.000 &    1.000 &    0.000 &    0.000 &    0.000 &    0.000 &    1.000 &    2.000 &    0.000\\\\\n",
       "\tTRINITY\\_DN0\\_c1\\_g1 &   73.250 &   64.943 &  152.050 &  124.758 &  127.939 &   93.405 &  453.622 &  373.047 &  509.331 &  431.117 & ... &  219.163 &  183.695 &  250.006 &  195.472 &  394.395 &  306.893 &  265.258 &  344.766 &  249.255 &  263.474\\\\\n",
       "\tTRINITY\\_DN0\\_c10\\_g1 & 1388.850 & 1023.287 & 1871.033 & 1460.069 & 1574.582 & 1358.728 & 1479.769 & 1413.415 & 1599.582 & 1450.988 & ... & 1699.625 & 1406.224 & 1852.171 & 1526.316 & 1613.952 & 1437.908 & 1305.970 & 1533.899 & 1257.485 & 1239.962\\\\\n",
       "\tTRINITY\\_DN0\\_c11\\_g1 &    5.311 &    4.000 &    5.000 &    2.000 &    5.000 &    6.000 &    6.000 &    6.000 &    8.170 &   11.000 & ... &    9.000 &    4.000 &    9.000 &    4.002 &    7.000 &    3.000 &    4.098 &    4.000 &    5.000 &    6.000\\\\\n",
       "\\end{tabular}\n"
      ],
      "text/markdown": [
       "\n",
       "A matrix: 6 × 48 of type dbl\n",
       "\n",
       "| <!--/--> | C_1_A | C_1_B | C_1_C | C_1_D | C_1_E | C_1_F | C_8_A | C_8_B | C_8_C | C_8_D | ... | V_24_C | V_24_D | V_24_E | V_24_F | V_96_A | V_96_B | V_96_C | V_96_D | V_96_E | V_96_F |\n",
       "|---|---|---|---|---|---|---|---|---|---|---|---|---|---|---|---|---|---|---|---|---|---|\n",
       "| TRINITY_DN0_c0_g1 | 4490.708 | 3898.111 | 6816.250 | 5244.265 | 5658.865 | 4545.606 | 5102.081 | 5131.738 | 5683.426 | 5264.201 | ... | 6451.364 | 5375.294 | 6658.806 | 5705.084 | 3785.423 | 3262.685 | 3030.182 | 3394.920 | 3033.362 | 2928.931 |\n",
       "| TRINITY_DN0_c0_g2 |    4.000 |    6.000 |   17.000 |    8.000 |   10.000 |    6.000 |    8.000 |   22.000 |   12.000 |   11.000 | ... |    6.000 |   11.000 |   12.000 |    6.000 |    3.000 |    6.000 |    3.000 |    4.000 |    8.000 |    4.000 |\n",
       "| TRINITY_DN0_c0_g3 |    0.000 |    0.000 |    0.000 |    1.000 |    0.000 |    0.000 |    1.000 |    1.000 |    0.000 |    1.000 | ... |    0.000 |    0.000 |    1.000 |    0.000 |    0.000 |    0.000 |    0.000 |    1.000 |    2.000 |    0.000 |\n",
       "| TRINITY_DN0_c1_g1 |   73.250 |   64.943 |  152.050 |  124.758 |  127.939 |   93.405 |  453.622 |  373.047 |  509.331 |  431.117 | ... |  219.163 |  183.695 |  250.006 |  195.472 |  394.395 |  306.893 |  265.258 |  344.766 |  249.255 |  263.474 |\n",
       "| TRINITY_DN0_c10_g1 | 1388.850 | 1023.287 | 1871.033 | 1460.069 | 1574.582 | 1358.728 | 1479.769 | 1413.415 | 1599.582 | 1450.988 | ... | 1699.625 | 1406.224 | 1852.171 | 1526.316 | 1613.952 | 1437.908 | 1305.970 | 1533.899 | 1257.485 | 1239.962 |\n",
       "| TRINITY_DN0_c11_g1 |    5.311 |    4.000 |    5.000 |    2.000 |    5.000 |    6.000 |    6.000 |    6.000 |    8.170 |   11.000 | ... |    9.000 |    4.000 |    9.000 |    4.002 |    7.000 |    3.000 |    4.098 |    4.000 |    5.000 |    6.000 |\n",
       "\n"
      ],
      "text/plain": [
       "                   C_1_A    C_1_B    C_1_C    C_1_D    C_1_E    C_1_F   \n",
       "TRINITY_DN0_c0_g1  4490.708 3898.111 6816.250 5244.265 5658.865 4545.606\n",
       "TRINITY_DN0_c0_g2     4.000    6.000   17.000    8.000   10.000    6.000\n",
       "TRINITY_DN0_c0_g3     0.000    0.000    0.000    1.000    0.000    0.000\n",
       "TRINITY_DN0_c1_g1    73.250   64.943  152.050  124.758  127.939   93.405\n",
       "TRINITY_DN0_c10_g1 1388.850 1023.287 1871.033 1460.069 1574.582 1358.728\n",
       "TRINITY_DN0_c11_g1    5.311    4.000    5.000    2.000    5.000    6.000\n",
       "                   C_8_A    C_8_B    C_8_C    C_8_D    ... V_24_C   V_24_D  \n",
       "TRINITY_DN0_c0_g1  5102.081 5131.738 5683.426 5264.201 ... 6451.364 5375.294\n",
       "TRINITY_DN0_c0_g2     8.000   22.000   12.000   11.000 ...    6.000   11.000\n",
       "TRINITY_DN0_c0_g3     1.000    1.000    0.000    1.000 ...    0.000    0.000\n",
       "TRINITY_DN0_c1_g1   453.622  373.047  509.331  431.117 ...  219.163  183.695\n",
       "TRINITY_DN0_c10_g1 1479.769 1413.415 1599.582 1450.988 ... 1699.625 1406.224\n",
       "TRINITY_DN0_c11_g1    6.000    6.000    8.170   11.000 ...    9.000    4.000\n",
       "                   V_24_E   V_24_F   V_96_A   V_96_B   V_96_C   V_96_D  \n",
       "TRINITY_DN0_c0_g1  6658.806 5705.084 3785.423 3262.685 3030.182 3394.920\n",
       "TRINITY_DN0_c0_g2    12.000    6.000    3.000    6.000    3.000    4.000\n",
       "TRINITY_DN0_c0_g3     1.000    0.000    0.000    0.000    0.000    1.000\n",
       "TRINITY_DN0_c1_g1   250.006  195.472  394.395  306.893  265.258  344.766\n",
       "TRINITY_DN0_c10_g1 1852.171 1526.316 1613.952 1437.908 1305.970 1533.899\n",
       "TRINITY_DN0_c11_g1    9.000    4.002    7.000    3.000    4.098    4.000\n",
       "                   V_96_E   V_96_F  \n",
       "TRINITY_DN0_c0_g1  3033.362 2928.931\n",
       "TRINITY_DN0_c0_g2     8.000    4.000\n",
       "TRINITY_DN0_c0_g3     2.000    0.000\n",
       "TRINITY_DN0_c1_g1   249.255  263.474\n",
       "TRINITY_DN0_c10_g1 1257.485 1239.962\n",
       "TRINITY_DN0_c11_g1    5.000    6.000"
      ]
     },
     "metadata": {},
     "output_type": "display_data"
    }
   ],
   "source": [
    "files <- file.path(\"salmon_quant\", \"salmon\", samples$SampleName, \"quant.sf\")\n",
    "names(files) <- samples$SampleName\n",
    "txi.salmon <- tximport(files, type = \"salmon\", tx2gene = tx2gene)\n",
    "head(txi.salmon$counts)"
   ]
  },
  {
   "cell_type": "code",
   "execution_count": 55,
   "id": "f2e153da",
   "metadata": {},
   "outputs": [
    {
     "name": "stderr",
     "output_type": "stream",
     "text": [
      "using counts and average transcript lengths from tximport\n",
      "\n"
     ]
    }
   ],
   "source": [
    "dds <- DESeqDataSetFromTximport(txi.salmon,\n",
    "                                   colData = samples,\n",
    "                                   design = ~ Treatment + Time)"
   ]
  },
  {
   "cell_type": "code",
   "execution_count": 56,
   "id": "2ef456aa-b0f5-485a-8b7b-168a6402c557",
   "metadata": {},
   "outputs": [
    {
     "data": {
      "text/plain": [
       "class: DESeqDataSet \n",
       "dim: 48247 48 \n",
       "metadata(1): version\n",
       "assays(2): counts avgTxLength\n",
       "rownames(48247): TRINITY_DN0_c0_g1 TRINITY_DN0_c0_g2 ...\n",
       "  TRINITY_DN9999_c0_g1 TRINITY_DN9999_c1_g1\n",
       "rowData names(0):\n",
       "colnames(48): C_1_A C_1_B ... V_96_E V_96_F\n",
       "colData names(4): SampleName Treatment Time Trt_Time"
      ]
     },
     "metadata": {},
     "output_type": "display_data"
    }
   ],
   "source": [
    "dds"
   ]
  },
  {
   "cell_type": "code",
   "execution_count": 57,
   "id": "0b394d25-965a-483a-9132-39b23e1b3ae5",
   "metadata": {},
   "outputs": [],
   "source": [
    "smallestGroupSize <- 3\n",
    "keep <- rowSums(counts(dds) >= 10) >= smallestGroupSize\n",
    "dds <- dds[keep,]"
   ]
  },
  {
   "cell_type": "code",
   "execution_count": 58,
   "id": "804e26db-8b5c-4b41-bd7b-ba2f44f76310",
   "metadata": {},
   "outputs": [],
   "source": [
    "dds$condition <- relevel(dds$Treatment, ref = \"Uninfected\")"
   ]
  },
  {
   "cell_type": "code",
   "execution_count": 59,
   "id": "8d34ec4b-f49c-498f-8ea9-96727de0b07b",
   "metadata": {},
   "outputs": [
    {
     "name": "stderr",
     "output_type": "stream",
     "text": [
      "estimating size factors\n",
      "\n",
      "using 'avgTxLength' from assays(dds), correcting for library size\n",
      "\n",
      "estimating dispersions\n",
      "\n",
      "gene-wise dispersion estimates\n",
      "\n",
      "mean-dispersion relationship\n",
      "\n",
      "final dispersion estimates\n",
      "\n",
      "fitting model and testing\n",
      "\n"
     ]
    }
   ],
   "source": [
    "dds <- DESeq(dds, test=\"LRT\", reduced = ~ Time)\n",
    "res_LRT <- results(dds)"
   ]
  },
  {
   "cell_type": "code",
   "execution_count": 60,
   "id": "36258678-5a9a-4ba1-b194-163a634d9135",
   "metadata": {},
   "outputs": [
    {
     "data": {
      "text/plain": [
       "log2 fold change (MLE): Time 96 vs 1 \n",
       "LRT p-value: '~ Treatment + Time' vs '~ Time' \n",
       "DataFrame with 17779 rows and 6 columns\n",
       "                       baseMean log2FoldChange     lfcSE        stat\n",
       "                      <numeric>      <numeric> <numeric>   <numeric>\n",
       "TRINITY_DN0_c0_g1    4898.71210      -0.433740 0.0274586  4.68775865\n",
       "TRINITY_DN0_c0_g2       9.29955      -0.524085 0.2605267  0.00339354\n",
       "TRINITY_DN0_c1_g1     259.54213       1.932209 0.0668125 13.77454347\n",
       "TRINITY_DN0_c10_g1   1446.01769       0.225846 0.0248291 14.77996670\n",
       "TRINITY_DN0_c11_g1      6.57610       0.101634 0.2900479  0.00365167\n",
       "...                         ...            ...       ...         ...\n",
       "TRINITY_DN9993_c0_g2   77.24867       0.753051  0.130352  0.00343556\n",
       "TRINITY_DN9994_c3_g1   43.07138       0.142159  0.141260  0.00351279\n",
       "TRINITY_DN9995_c0_g1    7.21916       1.522523  0.307472  0.00349240\n",
       "TRINITY_DN9999_c0_g1   37.65572      -0.739475  0.150070  0.27333190\n",
       "TRINITY_DN9999_c1_g1    9.67026       0.839482  0.254916  0.27376410\n",
       "                          pvalue       padj\n",
       "                       <numeric>  <numeric>\n",
       "TRINITY_DN0_c0_g1    0.030378249 0.15937756\n",
       "TRINITY_DN0_c0_g2    0.953546241         NA\n",
       "TRINITY_DN0_c1_g1    0.000206110 0.00703137\n",
       "TRINITY_DN0_c10_g1   0.000120812 0.00519938\n",
       "TRINITY_DN0_c11_g1   0.951813917         NA\n",
       "...                          ...        ...\n",
       "TRINITY_DN9993_c0_g2    0.953260   0.979953\n",
       "TRINITY_DN9994_c3_g1    0.952738   0.979816\n",
       "TRINITY_DN9995_c0_g1    0.952875         NA\n",
       "TRINITY_DN9999_c0_g1    0.601105   0.812800\n",
       "TRINITY_DN9999_c1_g1    0.600818         NA"
      ]
     },
     "metadata": {},
     "output_type": "display_data"
    }
   ],
   "source": [
    "res_LRT"
   ]
  },
  {
   "cell_type": "code",
   "execution_count": 62,
   "id": "e35cabef-1098-4faf-8c9f-d17f876a605c",
   "metadata": {},
   "outputs": [
    {
     "data": {
      "text/html": [
       "1330"
      ],
      "text/latex": [
       "1330"
      ],
      "text/markdown": [
       "1330"
      ],
      "text/plain": [
       "[1] 1330"
      ]
     },
     "metadata": {},
     "output_type": "display_data"
    }
   ],
   "source": [
    "# Subset the LRT results to return genes with padj < 0.05\n",
    "sig_res_LRT <- res_LRT %>%\n",
    "               data.frame() %>%\n",
    "               rownames_to_column(var=\"gene\") %>% \n",
    "               as_tibble() %>% \n",
    "               filter(padj < 0.05)\n",
    " \n",
    "# Get sig gene lists\n",
    "sigLRT_genes <- sig_res_LRT %>% \n",
    "                pull(gene)\n",
    "                \n",
    "length(sigLRT_genes)"
   ]
  },
  {
   "cell_type": "code",
   "execution_count": 63,
   "id": "50f16907-1053-43ea-a3eb-605657fd1e28",
   "metadata": {},
   "outputs": [
    {
     "name": "stderr",
     "output_type": "stream",
     "text": [
      "rlog() may take a few minutes with 30 or more samples,\n",
      "vst() is a much faster transformation\n",
      "\n"
     ]
    },
    {
     "data": {
      "image/png": "[encoded data removed]",
      "text/plain": [
       "plot without title"
      ]
     },
     "metadata": {
      "image/png": {
       "height": 420,
       "width": 420
      }
     },
     "output_type": "display_data"
    }
   ],
   "source": [
    " # Transform counts for data visualization\n",
    " rld <- rlog(dds, blind=TRUE)\n",
    "\t\n",
    " # Plot PCA \n",
    " plotPCA(rld, intgroup=\"condition\")\n",
    "\t\n",
    " # Extract the rlog matrix from the object and compute pairwise correlation values\n",
    " rld_mat <- assay(rld)\n",
    " rld_cor <- cor(rld_mat)"
   ]
  },
  {
   "cell_type": "code",
   "execution_count": 64,
   "id": "29a81e0c-7dfd-4a12-950f-bd188769e91b",
   "metadata": {},
   "outputs": [
    {
     "data": {
      "image/png": "[encoded data removed]",
      "text/plain": [
       "plot without title"
      ]
     },
     "metadata": {
      "image/png": {
       "height": 420,
       "width": 420
      }
     },
     "output_type": "display_data"
    }
   ],
   "source": [
    " # Plot heatmap\n",
    "df <- as.data.frame(colData(dds)[,c(\"Treatment\",\"Time\")])\n",
    "pheatmap(rld_cor, annotation_col=df)"
   ]
  },
  {
   "cell_type": "code",
   "execution_count": 65,
   "id": "02e291a0-b2ea-483c-9e5e-ff9cbde18b00",
   "metadata": {},
   "outputs": [],
   "source": [
    "# Obtain rlog values for those significant genes\n",
    "cluster_rlog <- rld_mat[sig_res_LRT$gene, ]"
   ]
  },
  {
   "cell_type": "code",
   "execution_count": 66,
   "id": "6dd0f0b6-dfc4-4163-a63e-7ed09fd8576b",
   "metadata": {},
   "outputs": [
    {
     "name": "stderr",
     "output_type": "stream",
     "text": [
      "Working with 1330 genes.\n",
      "\n",
      "Working with 1330 genes after filtering: minc > 15\n",
      "\n",
      "\u001b[1m\u001b[22mJoining with `by = join_by(merge)`\n",
      "\u001b[1m\u001b[22mJoining with `by = join_by(merge)`\n"
     ]
    },
    {
     "data": {
      "image/png": "[encoded data removed]",
      "text/plain": [
       "plot without title"
      ]
     },
     "metadata": {
      "image/png": {
       "height": 420,
       "width": 420
      }
     },
     "output_type": "display_data"
    }
   ],
   "source": [
    "# Use the `degPatterns` function from the 'DEGreport' package to show gene clusters across sample groups\n",
    "clusters <- degPatterns(cluster_rlog, metadata = df, time = \"Time\", col=NULL)"
   ]
  },
  {
   "cell_type": "code",
   "execution_count": null,
   "id": "35e9e0c4-74b0-4dbe-b52d-2bbe821cb22b",
   "metadata": {},
   "outputs": [],
   "source": []
  }
 ],
 "metadata": {
  "kernelspec": {
   "display_name": "R",
   "language": "R",
   "name": "ir"
  },
  "language_info": {
   "codemirror_mode": "r",
   "file_extension": ".r",
   "mimetype": "text/x-r-source",
   "name": "R",
   "pygments_lexer": "r",
   "version": "4.3.1"
  }
 },
 "nbformat": 4,
 "nbformat_minor": 5
}
